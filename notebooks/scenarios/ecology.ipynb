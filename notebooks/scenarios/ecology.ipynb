{
 "cells": [
  {
   "cell_type": "markdown",
   "metadata": {},
   "source": [
    "# SCENARIO 6\n",
    "\n",
    "Prioritizing ecology. \n",
    "\n",
    "Using the iterative ????\n",
    "\n",
    "- NID 3\n",
    "- Snapshot of 2050\n",
    "- No environmental impact is considered ??\n",
    "- TSO hubs added but locations are not optimized ???\n",
    "- 50 GW of solar minimum ???\n",
    "- 250 km2 of aquaculture ???\n",
    "\n"
   ]
  },
  {
   "cell_type": "code",
   "execution_count": 1,
   "metadata": {},
   "outputs": [],
   "source": [
    "# Imports\n",
    "import os\n",
    "import warnings \n",
    "import sys\n",
    "import importlib\n",
    "from pathlib import Path \n",
    "\n",
    "directory = Path(os.path.abspath(os.path.join(os.getcwd(), os.pardir, os.pardir)))\n",
    "sys.path.append(str(directory))\n",
    "\n",
    "modules_to_reload = [\n",
    "    \n",
    "    'src.marine_plan.marineplan',\n",
    "    'src.marine_plan.pre_compute',\n",
    "    'src.marine_plan.post_compute.clustering',\n",
    "    'src.marine_plan.post_compute.substations',\n",
    "]\n",
    "\n",
    "# Reload and import each module\n",
    "for module_name in modules_to_reload:\n",
    "    module = importlib.import_module(module_name)\n",
    "    importlib.reload(module)\n",
    "    globals().update({name: getattr(module, name) for name in dir(module) if not name.startswith('_')})\n",
    "\n",
    "from src.marine_plan.marineplan import *\n",
    "from src.marine_plan.pre_compute.pre_compute import *\n",
    "from src.marine_plan.post_compute.clustering import *\n",
    "from src.marine_plan.post_compute.substations import *\n",
    "\n",
    "\n",
    "warnings.filterwarnings(\"ignore\", category=UserWarning, module=\"openpyxl\")\n",
    "warnings.filterwarnings(\"ignore\", category=RuntimeWarning)\n",
    "warnings.filterwarnings(\"ignore\", category=FutureWarning)\n",
    "# Ignore all warnings\n",
    "warnings.filterwarnings(\"ignore\")"
   ]
  }
 ],
 "metadata": {
  "kernelspec": {
   "display_name": "NOCN",
   "language": "python",
   "name": "python3"
  },
  "language_info": {
   "codemirror_mode": {
    "name": "ipython",
    "version": 3
   },
   "file_extension": ".py",
   "mimetype": "text/x-python",
   "name": "python",
   "nbconvert_exporter": "python",
   "pygments_lexer": "ipython3",
   "version": "3.9.16"
  }
 },
 "nbformat": 4,
 "nbformat_minor": 2
}
