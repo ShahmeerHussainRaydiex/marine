{
 "cells": [
  {
   "cell_type": "markdown",
   "metadata": {},
   "source": [
    "This file is for applying whatever functions from raster_util.py to create/modify tif files for use with the data structuring and modelling for the NCN project. \n",
    "\n",
    "Do not cluster with new functions or any extra code, this should be a clean file with minimal lines. If you create new functions, please move them into raster_util.py.\n",
    "\n",
    "This file will be seperated into sections, please remain within the appropriate section. There are:\n",
    "\n",
    "- Mask Rasters\n",
    "- Reprojecting\n",
    "- Resampling\n",
    "- Reclassify Raster\n",
    "- Vector to Raster\n",
    "- Create Euclidean Distance Rasters\n"
   ]
  },
  {
   "cell_type": "code",
   "execution_count": 1,
   "metadata": {},
   "outputs": [],
   "source": [
    "### Imports\n",
    "# Imports\n",
    "import os\n",
    "import sys\n",
    "\n",
    "from pathlib import Path\n",
    "\n",
    "directory = Path(os.path.abspath(os.path.join(os.getcwd(), os.pardir)))\n",
    "sys.path.append(str(directory))\n",
    "from src.raster_util import *"
   ]
  },
  {
   "cell_type": "markdown",
   "metadata": {},
   "source": [
    "# Masking Rasters\n",
    "\n",
    "Apply the masking rasters function in here. It can be used to either get data from within the clipped area, or remove data from within the area.\n",
    "You need to provide the folder with the tifs, the output folder, and the path to the shapefile."
   ]
  },
  {
   "cell_type": "code",
   "execution_count": null,
   "metadata": {},
   "outputs": [],
   "source": [
    "# Example\n",
    "\n",
    "# input_folder = 'path/to/folder/with/tifs'\n",
    "# output_folder = 'path/to/output/folder'\n",
    "# shp_path = 'path/to/shapefile'\n",
    "# flag = 1 # Extracts the values within the bounds of the shapefile and removes what is outside\n",
    "# flag = 2 # Masks out the data that is within the bounds of the shapefile\n",
    "\n",
    "\n",
    "# mask_tifs(in_f=input_folder, out_f=output_folder, shape_path=shp_path, flag=flag)"
   ]
  },
  {
   "cell_type": "code",
   "execution_count": null,
   "metadata": {},
   "outputs": [],
   "source": [
    "# YOUR WORK HERE"
   ]
  },
  {
   "cell_type": "markdown",
   "metadata": {},
   "source": [
    "# Reprojecting\n",
    "\n",
    "Reproject a single raster to a new crs.\n",
    "\n",
    "Currently doesn't have the functionality to loop through a folder, but that can be added if needed."
   ]
  },
  {
   "cell_type": "code",
   "execution_count": null,
   "metadata": {},
   "outputs": [],
   "source": [
    "# Example\n",
    "\n",
    "# input_raster = 'path/to/raster'\n",
    "# output_raster = 'path/to/output/raster'\n",
    "# crs = 'EPSG:xxxx'\n",
    "\n",
    "# reproject_raster(input=input_raster, output=output_raster, epsg=crs)"
   ]
  },
  {
   "cell_type": "code",
   "execution_count": null,
   "metadata": {},
   "outputs": [],
   "source": [
    "# YOUR WORK HERE"
   ]
  },
  {
   "cell_type": "markdown",
   "metadata": {},
   "source": [
    "# Resampling\n",
    "\n",
    "Resample an entire folder of tifs to a specific resolution.\n",
    "\n",
    "NOTE: Does not currently work with ordinal rasters, as it averages the values from each cell. Need to adjust so that it can recognize the ordinal rasters (or have them input in advance) and takes the most common one within the cell."
   ]
  },
  {
   "cell_type": "code",
   "execution_count": null,
   "metadata": {},
   "outputs": [],
   "source": [
    "# Example\n",
    "\n",
    "# input_folder = 'path/to/folder/with/tifs'\n",
    "# output_folder = 'path/to/output/folder'\n",
    "# resolution = 1000 # Resolution is in meters, so this would produce cells with 1km edges\n",
    "\n",
    "\n",
    "# resample_tifs(in_f=input_folder, res=resolution, out_f=output_folder)"
   ]
  },
  {
   "cell_type": "code",
   "execution_count": 2,
   "metadata": {},
   "outputs": [
    {
     "name": "stdout",
     "output_type": "stream",
     "text": [
      "Resampling completed. Outputs saved to /Users/loucas/Documents/ORG/github/marine-planning/ecoimpactmapper/fishing_intensity/new\n"
     ]
    }
   ],
   "source": [
    "# YOUR WORK HERE\n",
    "\n",
    "input_folder = '/Users/loucas/Documents/ORG/github/marine-planning/ecoimpactmapper/fishing_intensity'\n",
    "output_folder = '/Users/loucas/Documents/ORG/github/marine-planning/ecoimpactmapper/fishing_intensity/new'\n",
    "resolution = 5000\n",
    "\n",
    "\n",
    "resample_rasters(input_folder, output_folder, resolution)"
   ]
  },
  {
   "cell_type": "markdown",
   "metadata": {},
   "source": [
    "# Reclassifying Rasters\n",
    "\n",
    "Reclassifies values within a raster into another predefined value. Currently only works on ordinal data, cannot use ranges to set values yet.\n"
   ]
  },
  {
   "cell_type": "code",
   "execution_count": null,
   "metadata": {},
   "outputs": [],
   "source": [
    "# Example\n",
    "\n",
    "# input_raster = 'path/to/raster'\n",
    "# output_raster = 'path/to/output/raster'\n",
    "\n",
    "# reclass_table = {\n",
    "#         1: 3,\n",
    "#         2: 1,\n",
    "#         3: 4,\n",
    "#         4: 1,\n",
    "#         5: 2,\n",
    "#         6: 1,\n",
    "#         7: 5\n",
    "# }\n",
    "\n",
    "# reclassify_raster(in_f=input_raster, out_f=output_raster, table=reclass_table)\n"
   ]
  },
  {
   "cell_type": "code",
   "execution_count": null,
   "metadata": {},
   "outputs": [],
   "source": [
    "# YOUR WORK HERE\n",
    "\n",
    "'''\n",
    "Putting this here for future reference. These are the categories and values as given by Ruben\n",
    "\n",
    "Seabed surface has 7 sub-catagories which have been assigned an ID which was used to create the raster ,,, \n",
    "\n",
    "1 = Coarse Substrate\n",
    "2 = Fine mud or Sandy mud\n",
    "3 = Mixed sediment\n",
    "4 = Muddy sand\n",
    "5 = Sand\n",
    "6 = Sandy mud\n",
    "7 = Seabed\n",
    "\n",
    "These have to be merged into (in brackets is the value for the model for each soil type):\n",
    "\n",
    "1 = Mud to muddy sand (4,000,000)\n",
    "2 = Sand (64,000,000)\n",
    "3 = Coarse substrate (16,000,000)\n",
    "4 = Mixed sediment (32,000,000)\n",
    "5 = Rock & boulders (no build)\n",
    "'''"
   ]
  },
  {
   "cell_type": "markdown",
   "metadata": {},
   "source": [
    "# Vector to Raster Conversions\n",
    "\n",
    "Converts a shapefile into a raster. Currently requires a field to be entered. Also requires a template raster  "
   ]
  },
  {
   "cell_type": "code",
   "execution_count": null,
   "metadata": {},
   "outputs": [],
   "source": [
    "# Example\n",
    "\n",
    "# shp_path = 'path/to/shapefile'\n",
    "# output_raster = 'path/to/output/raster'\n",
    "# template_raster = 'path/to/template/raster'\n",
    "# field = 'field to convert'\n",
    "\n",
    "# gdal_vec_to_ras(in_s=shp_path, out_r=output_raster, template_r=template_raster, field=field)"
   ]
  },
  {
   "cell_type": "code",
   "execution_count": 6,
   "metadata": {},
   "outputs": [],
   "source": [
    "# YOUR WORK HERE\n",
    "shp_path = '/Users/loucas/Documents/ORG/things too big for git/seabed_surface.geojson'\n",
    "output_raster = '/Users/loucas/Documents/ORG/things too big for git/seabed_surface.tif'\n",
    "template_raster = '/Users/loucas/Documents/ORG/github/marine-planning/data/rasters/international/d_shore.tif'\n",
    "\n",
    "gdal_vec_to_ras(in_s=shp_path, out_r=output_raster, template_r=template_raster, field='friction_angle')\n",
    "\n"
   ]
  },
  {
   "cell_type": "markdown",
   "metadata": {},
   "source": [
    "# Create Euclidean Distance Rasters\n",
    "\n",
    "Creates rasters of euclidean distance. Must input a list or shapefile with points. All points must be input within the template raster bounds.\n",
    "\n",
    "If the points are input through a list, they MUST have a name assosciated with each set of coordinates."
   ]
  },
  {
   "cell_type": "code",
   "execution_count": null,
   "metadata": {},
   "outputs": [],
   "source": [
    "# Example\n",
    "\n",
    "# template = 'path/to/template/raster'\n",
    "# output_folder = 'path/to/output/folder'\n",
    "# working_folder = 'path/to/temporary/proccessing/folder' # WILL BE REMOVED AT THE END\n",
    "\n",
    "# points_shp = 'path/to/shp/with/points' # If points are in a shapefile\n",
    "# points_list = [('ostend', 2.9092, 51.2247), ('random', 3.3, 51.2)] # If points come from a list\n",
    "\n",
    "# create_euclidean_distance(template=template, output_folder=output_folder, points=points_list, working_folder=working_folder)"
   ]
  },
  {
   "cell_type": "code",
   "execution_count": null,
   "metadata": {},
   "outputs": [],
   "source": [
    "# YOUR WORK HERE"
   ]
  },
  {
   "cell_type": "markdown",
   "metadata": {},
   "source": [
    "# Mosaic Rasters\n",
    "\n",
    "Creates a mosaic of rasters within a folder. Don't do this in qgis it is useless. Just do it here"
   ]
  },
  {
   "cell_type": "code",
   "execution_count": 2,
   "metadata": {},
   "outputs": [],
   "source": [
    "# Example\n",
    "\n",
    "# folder = 'path/to/folder/with/tifs'\n",
    "# output = 'path/to/output/raster'\n",
    "# mosaic_rasters(folder, output)"
   ]
  },
  {
   "cell_type": "code",
   "execution_count": 3,
   "metadata": {},
   "outputs": [
    {
     "name": "stdout",
     "output_type": "stream",
     "text": [
      "Mosaic created successfully: /Users/loucas/Downloads/mosaic.tif\n"
     ]
    }
   ],
   "source": [
    "folder = '/Users/loucas/Downloads/to_modify'\n",
    "output = '/Users/loucas/Downloads/mosaic.tif'\n",
    "mosaic_rasters(folder, output)"
   ]
  },
  {
   "cell_type": "markdown",
   "metadata": {},
   "source": [
    "# Create a Distance from Polygon Raster\n",
    "\n",
    "To be used for something like creating a distance from shore raster for NOCN"
   ]
  },
  {
   "cell_type": "code",
   "execution_count": null,
   "metadata": {},
   "outputs": [],
   "source": [
    "# Example\n",
    "\n",
    "# shp_path = 'path/to/shapefile'\n",
    "# template_raster = 'path/to/template/raster'\n",
    "# output_raster = 'path/to/output/raster'\n",
    "\n",
    "# create_distance_raster(shp_path, template_raster, output_raster)"
   ]
  },
  {
   "cell_type": "markdown",
   "metadata": {},
   "source": [
    "# Interpolate Raster\n",
    "\n",
    "Does an ok job, works well with very stable data such as wind speed over the ocean, but does not work very well over land."
   ]
  },
  {
   "cell_type": "code",
   "execution_count": 1,
   "metadata": {},
   "outputs": [],
   "source": [
    "# Example\n",
    "\n",
    "# raster_path = 'path/to/raster'\n",
    "# output_path = 'path/to/output/raster'\n",
    "\n",
    "# interpolate_raster_nans_idw(raster_path, output_path)"
   ]
  },
  {
   "cell_type": "code",
   "execution_count": 4,
   "metadata": {},
   "outputs": [],
   "source": [
    "raster_path = '/Users/loucas/Downloads/ssssf.tif'\n",
    "output_path = '/Users/loucas/Downloads/inter.tif'\n",
    "\n",
    "interpolate_raster_nans_idw(raster_path, output_path)"
   ]
  }
 ],
 "metadata": {
  "kernelspec": {
   "display_name": "NOCN",
   "language": "python",
   "name": "python3"
  },
  "language_info": {
   "codemirror_mode": {
    "name": "ipython",
    "version": 3
   },
   "file_extension": ".py",
   "mimetype": "text/x-python",
   "name": "python",
   "nbconvert_exporter": "python",
   "pygments_lexer": "ipython3",
   "version": "3.9.16"
  }
 },
 "nbformat": 4,
 "nbformat_minor": 2
}
